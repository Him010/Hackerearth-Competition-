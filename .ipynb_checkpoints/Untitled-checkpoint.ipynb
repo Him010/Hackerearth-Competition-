{
 "cells": [
  {
   "cell_type": "code",
   "execution_count": 1,
   "metadata": {},
   "outputs": [],
   "source": [
    "import pandas as pd\n",
    "import matplotlib.pyplot as plt\n",
    "import numpy as np\n",
    "%matplotlib inline "
   ]
  },
  {
   "cell_type": "code",
   "execution_count": 2,
   "metadata": {},
   "outputs": [
    {
     "name": "stdout",
     "output_type": "stream",
     "text": [
      "         Product_id  Stall_no instock_date  Market_Category Customer_name  \\\n",
      "0  BRAE2NF6JA5GUEXG      37.0      36:12.0                2      Lillyann   \n",
      "1  TUNE8SFB6RJN2HSD      38.0      19:13.0               24         Klynn   \n",
      "2  BRAEAR7WZPQGPBZU       9.0      25:22.0              447         Ridge   \n",
      "3  WATDZ2ZQ8JPDHCTJ      50.0      53:01.0               23         Abran   \n",
      "4  JWSEBUKYQPMBZ3RK       7.0      58:53.0               63        Dustyn   \n",
      "\n",
      "  Loyalty_customer Product_Category  Grade  Demand  Discount_avail  charges_1  \\\n",
      "0              Yes          Fashion      1      68             0.0      376.0   \n",
      "1              Yes          Fashion      0      51             0.0      397.0   \n",
      "2              Yes       Child_care      0      10             0.0      250.0   \n",
      "3              Yes      Educational      2      48             0.0      144.0   \n",
      "4              Yes           Repair      1      35             1.0      211.0   \n",
      "\n",
      "   charges_2 (%)  Minimum_price  Maximum_price  Selling_Price  \n",
      "0           11.0         2983.0         4713.0    4185.947700  \n",
      "1           12.0         7495.0        10352.0    9271.490256  \n",
      "2            9.0         5752.0         7309.0    6785.701362  \n",
      "3           13.0         5090.0        20814.0   13028.917820  \n",
      "4            4.0         2430.0         9261.0     906.553935  \n"
     ]
    },
    {
     "data": {
      "text/html": [
       "<div>\n",
       "<style scoped>\n",
       "    .dataframe tbody tr th:only-of-type {\n",
       "        vertical-align: middle;\n",
       "    }\n",
       "\n",
       "    .dataframe tbody tr th {\n",
       "        vertical-align: top;\n",
       "    }\n",
       "\n",
       "    .dataframe thead th {\n",
       "        text-align: right;\n",
       "    }\n",
       "</style>\n",
       "<table border=\"1\" class=\"dataframe\">\n",
       "  <thead>\n",
       "    <tr style=\"text-align: right;\">\n",
       "      <th></th>\n",
       "      <th>Product_id</th>\n",
       "      <th>Stall_no</th>\n",
       "      <th>instock_date</th>\n",
       "      <th>Market_Category</th>\n",
       "      <th>Customer_name</th>\n",
       "      <th>Loyalty_customer</th>\n",
       "      <th>Product_Category</th>\n",
       "      <th>Grade</th>\n",
       "      <th>Demand</th>\n",
       "      <th>Discount_avail</th>\n",
       "      <th>charges_1</th>\n",
       "      <th>charges_2 (%)</th>\n",
       "      <th>Minimum_price</th>\n",
       "      <th>Maximum_price</th>\n",
       "    </tr>\n",
       "  </thead>\n",
       "  <tbody>\n",
       "    <tr>\n",
       "      <td>0</td>\n",
       "      <td>SCHE4YSTDVPVZVXW</td>\n",
       "      <td>39.0</td>\n",
       "      <td>2016-01-13 07:45:08.000</td>\n",
       "      <td>205</td>\n",
       "      <td>Ivanka</td>\n",
       "      <td>No</td>\n",
       "      <td>Fashion</td>\n",
       "      <td>0</td>\n",
       "      <td>90</td>\n",
       "      <td>0</td>\n",
       "      <td>380.0</td>\n",
       "      <td>16.0</td>\n",
       "      <td>2576.0</td>\n",
       "      <td>3340</td>\n",
       "    </tr>\n",
       "    <tr>\n",
       "      <td>1</td>\n",
       "      <td>ACCEGCATKHNRXUHW</td>\n",
       "      <td>49.0</td>\n",
       "      <td>2015-08-23 20:37:05.000</td>\n",
       "      <td>3</td>\n",
       "      <td>Isaak</td>\n",
       "      <td>Yes</td>\n",
       "      <td>Fashion</td>\n",
       "      <td>0</td>\n",
       "      <td>87</td>\n",
       "      <td>0</td>\n",
       "      <td>393.0</td>\n",
       "      <td>16.0</td>\n",
       "      <td>1202.0</td>\n",
       "      <td>1955</td>\n",
       "    </tr>\n",
       "    <tr>\n",
       "      <td>2</td>\n",
       "      <td>NKCE6GJ5XVJDXNNZ</td>\n",
       "      <td>1.0</td>\n",
       "      <td>2015-11-14 18:12:39.000</td>\n",
       "      <td>183</td>\n",
       "      <td>Analiese</td>\n",
       "      <td>No</td>\n",
       "      <td>Technology</td>\n",
       "      <td>2</td>\n",
       "      <td>55</td>\n",
       "      <td>0</td>\n",
       "      <td>493.0</td>\n",
       "      <td>9.0</td>\n",
       "      <td>7175.0</td>\n",
       "      <td>15715</td>\n",
       "    </tr>\n",
       "    <tr>\n",
       "      <td>3</td>\n",
       "      <td>NKCEB8BK3ZXDHDHM</td>\n",
       "      <td>8.0</td>\n",
       "      <td>2015-11-21 04:56:19.000</td>\n",
       "      <td>358</td>\n",
       "      <td>Rusty</td>\n",
       "      <td>Yes</td>\n",
       "      <td>Child_care</td>\n",
       "      <td>3</td>\n",
       "      <td>86</td>\n",
       "      <td>0</td>\n",
       "      <td>303.0</td>\n",
       "      <td>16.0</td>\n",
       "      <td>5404.0</td>\n",
       "      <td>13078</td>\n",
       "    </tr>\n",
       "    <tr>\n",
       "      <td>4</td>\n",
       "      <td>TOPEFDXSAHRNPF94</td>\n",
       "      <td>33.0</td>\n",
       "      <td>2015-05-06 15:09:46.000</td>\n",
       "      <td>167</td>\n",
       "      <td>Eloise</td>\n",
       "      <td>No</td>\n",
       "      <td>Technology</td>\n",
       "      <td>0</td>\n",
       "      <td>27</td>\n",
       "      <td>0</td>\n",
       "      <td>567.0</td>\n",
       "      <td>16.0</td>\n",
       "      <td>4069.0</td>\n",
       "      <td>6244</td>\n",
       "    </tr>\n",
       "  </tbody>\n",
       "</table>\n",
       "</div>"
      ],
      "text/plain": [
       "         Product_id  Stall_no             instock_date  Market_Category  \\\n",
       "0  SCHE4YSTDVPVZVXW      39.0  2016-01-13 07:45:08.000              205   \n",
       "1  ACCEGCATKHNRXUHW      49.0  2015-08-23 20:37:05.000                3   \n",
       "2  NKCE6GJ5XVJDXNNZ       1.0  2015-11-14 18:12:39.000              183   \n",
       "3  NKCEB8BK3ZXDHDHM       8.0  2015-11-21 04:56:19.000              358   \n",
       "4  TOPEFDXSAHRNPF94      33.0  2015-05-06 15:09:46.000              167   \n",
       "\n",
       "  Customer_name Loyalty_customer Product_Category  Grade  Demand  \\\n",
       "0        Ivanka              No           Fashion      0      90   \n",
       "1         Isaak              Yes          Fashion      0      87   \n",
       "2      Analiese              No        Technology      2      55   \n",
       "3         Rusty              Yes       Child_care      3      86   \n",
       "4        Eloise              No        Technology      0      27   \n",
       "\n",
       "   Discount_avail  charges_1  charges_2 (%)  Minimum_price  Maximum_price  \n",
       "0               0      380.0           16.0         2576.0           3340  \n",
       "1               0      393.0           16.0         1202.0           1955  \n",
       "2               0      493.0            9.0         7175.0          15715  \n",
       "3               0      303.0           16.0         5404.0          13078  \n",
       "4               0      567.0           16.0         4069.0           6244  "
      ]
     },
     "execution_count": 2,
     "metadata": {},
     "output_type": "execute_result"
    }
   ],
   "source": [
    "data_train = pd.read_csv(\"dataset/train.csv\")\n",
    "data_test = pd.read_csv(\"dataset/test.csv\")\n",
    "print(data_train.head())\n",
    "data_test.head()"
   ]
  },
  {
   "cell_type": "code",
   "execution_count": 3,
   "metadata": {},
   "outputs": [
    {
     "name": "stdout",
     "output_type": "stream",
     "text": [
      "15\n",
      "14\n",
      "(6368, 15)\n",
      "(3430, 14)\n"
     ]
    }
   ],
   "source": [
    "print(len(data_train.columns))\n",
    "print(len(data_test.columns))\n",
    "print(data_train.shape)\n",
    "print(data_test.shape)"
   ]
  },
  {
   "cell_type": "code",
   "execution_count": 4,
   "metadata": {},
   "outputs": [
    {
     "name": "stdout",
     "output_type": "stream",
     "text": [
      "14\n",
      "          Stall_no  Market_Category        Grade       Demand  Discount_avail  \\\n",
      "count  6363.000000      6368.000000  6368.000000  6368.000000     6330.000000   \n",
      "mean     25.309445       199.340609     0.643687    50.921168        0.140442   \n",
      "std      14.328980       170.275570     1.025092    29.091922        0.347473   \n",
      "min       1.000000         0.000000     0.000000     1.000000        0.000000   \n",
      "25%      13.000000        55.000000     0.000000    26.000000        0.000000   \n",
      "50%      25.000000       132.000000     0.000000    51.000000        0.000000   \n",
      "75%      37.000000       403.000000     2.000000    76.000000        0.000000   \n",
      "max      50.000000       471.000000     3.000000   100.000000        1.000000   \n",
      "\n",
      "         charges_1  charges_2 (%)  Minimum_price  Maximum_price  Selling_Price  \n",
      "count  6170.000000    6163.000000    6330.000000    6025.000000    6327.000000  \n",
      "mean    264.514100      10.146195    3531.349763    6432.545892    4563.242592  \n",
      "std     124.483056       4.318339    2194.729604    3716.177364    2979.102408  \n",
      "min     100.000000       1.000000       1.000000     404.000000   -6062.470000  \n",
      "25%     163.000000       7.000000    1879.250000    3918.000000    2450.005280  \n",
      "50%     252.000000      10.000000    3157.500000    5634.000000    4210.384640  \n",
      "75%     314.000000      14.000000    4697.000000    8126.000000    6167.643252  \n",
      "max     649.000000      17.000000   17580.000000   58812.000000   22638.325940  \n",
      "<class 'pandas.core.frame.DataFrame'>\n",
      "RangeIndex: 6368 entries, 0 to 6367\n",
      "Data columns (total 15 columns):\n",
      "Product_id          6368 non-null object\n",
      "Stall_no            6363 non-null float64\n",
      "instock_date        6368 non-null object\n",
      "Market_Category     6368 non-null int64\n",
      "Customer_name       6157 non-null object\n",
      "Loyalty_customer    6368 non-null object\n",
      "Product_Category    6368 non-null object\n",
      "Grade               6368 non-null int64\n",
      "Demand              6368 non-null int64\n",
      "Discount_avail      6330 non-null float64\n",
      "charges_1           6170 non-null float64\n",
      "charges_2 (%)       6163 non-null float64\n",
      "Minimum_price       6330 non-null float64\n",
      "Maximum_price       6025 non-null float64\n",
      "Selling_Price       6327 non-null float64\n",
      "dtypes: float64(7), int64(3), object(5)\n",
      "memory usage: 746.4+ KB\n"
     ]
    }
   ],
   "source": [
    "print(len(data_train[data_train[\"Selling_Price\"]<0]))\n",
    "print(data_train.describe())\n",
    "data_train.info()"
   ]
  },
  {
   "cell_type": "code",
   "execution_count": 5,
   "metadata": {},
   "outputs": [
    {
     "name": "stdout",
     "output_type": "stream",
     "text": [
      "<class 'pandas.core.frame.DataFrame'>\n",
      "RangeIndex: 3430 entries, 0 to 3429\n",
      "Data columns (total 14 columns):\n",
      "Product_id          3430 non-null object\n",
      "Stall_no            3429 non-null float64\n",
      "instock_date        3430 non-null object\n",
      "Market_Category     3430 non-null int64\n",
      "Customer_name       3377 non-null object\n",
      "Loyalty_customer    3430 non-null object\n",
      "Product_Category    3430 non-null object\n",
      "Grade               3430 non-null int64\n",
      "Demand              3430 non-null int64\n",
      "Discount_avail      3430 non-null int64\n",
      "charges_1           3394 non-null float64\n",
      "charges_2 (%)       3425 non-null float64\n",
      "Minimum_price       3416 non-null float64\n",
      "Maximum_price       3430 non-null int64\n",
      "dtypes: float64(4), int64(5), object(5)\n",
      "memory usage: 375.3+ KB\n",
      "None\n"
     ]
    },
    {
     "data": {
      "text/html": [
       "<div>\n",
       "<style scoped>\n",
       "    .dataframe tbody tr th:only-of-type {\n",
       "        vertical-align: middle;\n",
       "    }\n",
       "\n",
       "    .dataframe tbody tr th {\n",
       "        vertical-align: top;\n",
       "    }\n",
       "\n",
       "    .dataframe thead th {\n",
       "        text-align: right;\n",
       "    }\n",
       "</style>\n",
       "<table border=\"1\" class=\"dataframe\">\n",
       "  <thead>\n",
       "    <tr style=\"text-align: right;\">\n",
       "      <th></th>\n",
       "      <th>Stall_no</th>\n",
       "      <th>Market_Category</th>\n",
       "      <th>Grade</th>\n",
       "      <th>Demand</th>\n",
       "      <th>Discount_avail</th>\n",
       "      <th>charges_1</th>\n",
       "      <th>charges_2 (%)</th>\n",
       "      <th>Minimum_price</th>\n",
       "      <th>Maximum_price</th>\n",
       "    </tr>\n",
       "  </thead>\n",
       "  <tbody>\n",
       "    <tr>\n",
       "      <td>count</td>\n",
       "      <td>3429.000000</td>\n",
       "      <td>3430.000000</td>\n",
       "      <td>3430.000000</td>\n",
       "      <td>3430.000000</td>\n",
       "      <td>3430.000000</td>\n",
       "      <td>3394.000000</td>\n",
       "      <td>3425.000000</td>\n",
       "      <td>3416.000000</td>\n",
       "      <td>3430.000000</td>\n",
       "    </tr>\n",
       "    <tr>\n",
       "      <td>mean</td>\n",
       "      <td>25.633421</td>\n",
       "      <td>196.693878</td>\n",
       "      <td>0.667638</td>\n",
       "      <td>49.917493</td>\n",
       "      <td>0.146356</td>\n",
       "      <td>265.484973</td>\n",
       "      <td>10.436204</td>\n",
       "      <td>3444.206089</td>\n",
       "      <td>6234.062391</td>\n",
       "    </tr>\n",
       "    <tr>\n",
       "      <td>std</td>\n",
       "      <td>14.389747</td>\n",
       "      <td>168.832500</td>\n",
       "      <td>1.045914</td>\n",
       "      <td>28.587214</td>\n",
       "      <td>0.353514</td>\n",
       "      <td>125.325455</td>\n",
       "      <td>4.232382</td>\n",
       "      <td>2178.418557</td>\n",
       "      <td>3575.968650</td>\n",
       "    </tr>\n",
       "    <tr>\n",
       "      <td>min</td>\n",
       "      <td>1.000000</td>\n",
       "      <td>0.000000</td>\n",
       "      <td>0.000000</td>\n",
       "      <td>1.000000</td>\n",
       "      <td>0.000000</td>\n",
       "      <td>100.000000</td>\n",
       "      <td>1.000000</td>\n",
       "      <td>124.000000</td>\n",
       "      <td>163.000000</td>\n",
       "    </tr>\n",
       "    <tr>\n",
       "      <td>25%</td>\n",
       "      <td>13.000000</td>\n",
       "      <td>55.000000</td>\n",
       "      <td>0.000000</td>\n",
       "      <td>26.000000</td>\n",
       "      <td>0.000000</td>\n",
       "      <td>162.000000</td>\n",
       "      <td>7.000000</td>\n",
       "      <td>1834.000000</td>\n",
       "      <td>3819.000000</td>\n",
       "    </tr>\n",
       "    <tr>\n",
       "      <td>50%</td>\n",
       "      <td>26.000000</td>\n",
       "      <td>124.000000</td>\n",
       "      <td>0.000000</td>\n",
       "      <td>50.000000</td>\n",
       "      <td>0.000000</td>\n",
       "      <td>252.000000</td>\n",
       "      <td>11.000000</td>\n",
       "      <td>3060.500000</td>\n",
       "      <td>5431.000000</td>\n",
       "    </tr>\n",
       "    <tr>\n",
       "      <td>75%</td>\n",
       "      <td>38.000000</td>\n",
       "      <td>358.000000</td>\n",
       "      <td>2.000000</td>\n",
       "      <td>74.000000</td>\n",
       "      <td>0.000000</td>\n",
       "      <td>319.000000</td>\n",
       "      <td>14.000000</td>\n",
       "      <td>4606.500000</td>\n",
       "      <td>7796.500000</td>\n",
       "    </tr>\n",
       "    <tr>\n",
       "      <td>max</td>\n",
       "      <td>50.000000</td>\n",
       "      <td>471.000000</td>\n",
       "      <td>3.000000</td>\n",
       "      <td>100.000000</td>\n",
       "      <td>1.000000</td>\n",
       "      <td>648.000000</td>\n",
       "      <td>17.000000</td>\n",
       "      <td>17182.000000</td>\n",
       "      <td>27954.000000</td>\n",
       "    </tr>\n",
       "  </tbody>\n",
       "</table>\n",
       "</div>"
      ],
      "text/plain": [
       "          Stall_no  Market_Category        Grade       Demand  Discount_avail  \\\n",
       "count  3429.000000      3430.000000  3430.000000  3430.000000     3430.000000   \n",
       "mean     25.633421       196.693878     0.667638    49.917493        0.146356   \n",
       "std      14.389747       168.832500     1.045914    28.587214        0.353514   \n",
       "min       1.000000         0.000000     0.000000     1.000000        0.000000   \n",
       "25%      13.000000        55.000000     0.000000    26.000000        0.000000   \n",
       "50%      26.000000       124.000000     0.000000    50.000000        0.000000   \n",
       "75%      38.000000       358.000000     2.000000    74.000000        0.000000   \n",
       "max      50.000000       471.000000     3.000000   100.000000        1.000000   \n",
       "\n",
       "         charges_1  charges_2 (%)  Minimum_price  Maximum_price  \n",
       "count  3394.000000    3425.000000    3416.000000    3430.000000  \n",
       "mean    265.484973      10.436204    3444.206089    6234.062391  \n",
       "std     125.325455       4.232382    2178.418557    3575.968650  \n",
       "min     100.000000       1.000000     124.000000     163.000000  \n",
       "25%     162.000000       7.000000    1834.000000    3819.000000  \n",
       "50%     252.000000      11.000000    3060.500000    5431.000000  \n",
       "75%     319.000000      14.000000    4606.500000    7796.500000  \n",
       "max     648.000000      17.000000   17182.000000   27954.000000  "
      ]
     },
     "execution_count": 5,
     "metadata": {},
     "output_type": "execute_result"
    }
   ],
   "source": [
    "print(data_test.info())\n",
    "data_test.describe()"
   ]
  },
  {
   "cell_type": "code",
   "execution_count": 6,
   "metadata": {},
   "outputs": [],
   "source": [
    "data_train = data_train.fillna(np.nan)\n",
    "data_test = data_test.fillna(np.nan) "
   ]
  },
  {
   "cell_type": "code",
   "execution_count": 7,
   "metadata": {},
   "outputs": [
    {
     "data": {
      "text/plain": [
       "Index(['Product_id', 'Stall_no', 'instock_date', 'Market_Category',\n",
       "       'Loyalty_customer', 'Product_Category', 'Grade', 'Demand',\n",
       "       'Discount_avail', 'charges_1', 'charges_2 (%)', 'Minimum_price',\n",
       "       'Maximum_price', 'Selling_Price'],\n",
       "      dtype='object')"
      ]
     },
     "execution_count": 7,
     "metadata": {},
     "output_type": "execute_result"
    }
   ],
   "source": [
    "del data_train[\"Customer_name\"]\n",
    "del data_test[\"Customer_name\"]\n",
    "data_train.columns"
   ]
  },
  {
   "cell_type": "code",
   "execution_count": 8,
   "metadata": {},
   "outputs": [
    {
     "name": "stdout",
     "output_type": "stream",
     "text": [
      "<class 'pandas.core.frame.DataFrame'>\n",
      "RangeIndex: 6368 entries, 0 to 6367\n",
      "Data columns (total 14 columns):\n",
      "Product_id          6368 non-null object\n",
      "Stall_no            6368 non-null float64\n",
      "instock_date        6368 non-null object\n",
      "Market_Category     6368 non-null int64\n",
      "Loyalty_customer    6368 non-null object\n",
      "Product_Category    6368 non-null object\n",
      "Grade               6368 non-null int64\n",
      "Demand              6368 non-null int64\n",
      "Discount_avail      6368 non-null float64\n",
      "charges_1           6170 non-null float64\n",
      "charges_2 (%)       6163 non-null float64\n",
      "Minimum_price       6330 non-null float64\n",
      "Maximum_price       6025 non-null float64\n",
      "Selling_Price       6327 non-null float64\n",
      "dtypes: float64(7), int64(3), object(4)\n",
      "memory usage: 696.6+ KB\n",
      "<class 'pandas.core.frame.DataFrame'>\n",
      "RangeIndex: 3430 entries, 0 to 3429\n",
      "Data columns (total 13 columns):\n",
      "Product_id          3430 non-null object\n",
      "Stall_no            3430 non-null float64\n",
      "instock_date        3430 non-null object\n",
      "Market_Category     3430 non-null int64\n",
      "Loyalty_customer    3430 non-null object\n",
      "Product_Category    3430 non-null object\n",
      "Grade               3430 non-null int64\n",
      "Demand              3430 non-null int64\n",
      "Discount_avail      3430 non-null int64\n",
      "charges_1           3394 non-null float64\n",
      "charges_2 (%)       3425 non-null float64\n",
      "Minimum_price       3416 non-null float64\n",
      "Maximum_price       3430 non-null int64\n",
      "dtypes: float64(4), int64(5), object(4)\n",
      "memory usage: 348.5+ KB\n"
     ]
    },
    {
     "data": {
      "text/plain": [
       "(None, None)"
      ]
     },
     "execution_count": 8,
     "metadata": {},
     "output_type": "execute_result"
    }
   ],
   "source": [
    "data_train.Stall_no.fillna(data_train[\"Stall_no\"].mode()[0],inplace = True)\n",
    "data_test.Stall_no.fillna(data_test[\"Stall_no\"].mode()[0],inplace = True)\n",
    "data_train[\"Discount_avail\"].fillna(data_train[\"Discount_avail\"].mode()[0],inplace = True)\n",
    "data_test[\"Discount_avail\"].fillna(data_test[\"Discount_avail\"].mode()[0],inplace = True)\n",
    "data_train.info(),data_test.info()"
   ]
  },
  {
   "cell_type": "code",
   "execution_count": 9,
   "metadata": {},
   "outputs": [
    {
     "name": "stdout",
     "output_type": "stream",
     "text": [
      "<class 'pandas.core.frame.DataFrame'>\n",
      "RangeIndex: 6354 entries, 0 to 6353\n",
      "Data columns (total 14 columns):\n",
      "Product_id          6354 non-null object\n",
      "Stall_no            6354 non-null float64\n",
      "instock_date        6354 non-null object\n",
      "Market_Category     6354 non-null int64\n",
      "Loyalty_customer    6354 non-null object\n",
      "Product_Category    6354 non-null object\n",
      "Grade               6354 non-null int64\n",
      "Demand              6354 non-null int64\n",
      "Discount_avail      6354 non-null float64\n",
      "charges_1           6157 non-null float64\n",
      "charges_2 (%)       6149 non-null float64\n",
      "Minimum_price       6316 non-null float64\n",
      "Maximum_price       6012 non-null float64\n",
      "Selling_Price       6313 non-null float64\n",
      "dtypes: float64(7), int64(3), object(4)\n",
      "memory usage: 695.1+ KB\n"
     ]
    }
   ],
   "source": [
    "#data_train[\"Selling_Price\"] = data_train[\"Selling_Price\"].apply(abs)\n",
    "#data_train[data_train[\"Selling_Price\"]<0][\"Selling_Price\"]\n",
    "data_train.drop(data_train[data_train[\"Selling_Price\"]<0].index,inplace = True)\n",
    "data_train = data_train.reset_index(drop = True)\n",
    "data_train.info()"
   ]
  },
  {
   "cell_type": "code",
   "execution_count": 10,
   "metadata": {},
   "outputs": [
    {
     "data": {
      "text/plain": [
       "10"
      ]
     },
     "execution_count": 10,
     "metadata": {},
     "output_type": "execute_result"
    }
   ],
   "source": [
    "len(data_train.Product_Category.unique())"
   ]
  },
  {
   "cell_type": "code",
   "execution_count": 11,
   "metadata": {},
   "outputs": [
    {
     "name": "stdout",
     "output_type": "stream",
     "text": [
      "<class 'pandas.core.frame.DataFrame'>\n",
      "RangeIndex: 6354 entries, 0 to 6353\n",
      "Data columns (total 14 columns):\n",
      "Product_id          6354 non-null object\n",
      "Stall_no            6354 non-null float64\n",
      "instock_date        6354 non-null object\n",
      "Market_Category     6354 non-null int64\n",
      "Loyalty_customer    6354 non-null object\n",
      "Product_Category    6354 non-null object\n",
      "Grade               6354 non-null int64\n",
      "Demand              6354 non-null int64\n",
      "Discount_avail      6354 non-null float64\n",
      "charges_1           6354 non-null float64\n",
      "charges_2 (%)       6149 non-null float64\n",
      "Minimum_price       6316 non-null float64\n",
      "Maximum_price       6012 non-null float64\n",
      "Selling_Price       6313 non-null float64\n",
      "dtypes: float64(7), int64(3), object(4)\n",
      "memory usage: 695.1+ KB\n",
      "None\n",
      "<class 'pandas.core.frame.DataFrame'>\n",
      "RangeIndex: 3430 entries, 0 to 3429\n",
      "Data columns (total 13 columns):\n",
      "Product_id          3430 non-null object\n",
      "Stall_no            3430 non-null float64\n",
      "instock_date        3430 non-null object\n",
      "Market_Category     3430 non-null int64\n",
      "Loyalty_customer    3430 non-null object\n",
      "Product_Category    3430 non-null object\n",
      "Grade               3430 non-null int64\n",
      "Demand              3430 non-null int64\n",
      "Discount_avail      3430 non-null int64\n",
      "charges_1           3430 non-null float64\n",
      "charges_2 (%)       3425 non-null float64\n",
      "Minimum_price       3416 non-null float64\n",
      "Maximum_price       3430 non-null int64\n",
      "dtypes: float64(4), int64(5), object(4)\n",
      "memory usage: 348.5+ KB\n",
      "None\n"
     ]
    }
   ],
   "source": [
    "data_train[\"charges_1\"] = data_train[\"charges_1\"].fillna(data_train.groupby('Product_Category')['charges_1'].transform('median'))\n",
    "data_test['charges_1'] = data_test['charges_1'].fillna(data_test.groupby('Product_Category')['charges_1'].transform('median'))\n",
    "print(data_train.info())\n",
    "print(data_test.info())"
   ]
  },
  {
   "cell_type": "code",
   "execution_count": 12,
   "metadata": {},
   "outputs": [
    {
     "name": "stdout",
     "output_type": "stream",
     "text": [
      "<class 'pandas.core.frame.DataFrame'>\n",
      "RangeIndex: 6354 entries, 0 to 6353\n",
      "Data columns (total 14 columns):\n",
      "Product_id          6354 non-null object\n",
      "Stall_no            6354 non-null float64\n",
      "instock_date        6354 non-null object\n",
      "Market_Category     6354 non-null int64\n",
      "Loyalty_customer    6354 non-null object\n",
      "Product_Category    6354 non-null object\n",
      "Grade               6354 non-null int64\n",
      "Demand              6354 non-null int64\n",
      "Discount_avail      6354 non-null float64\n",
      "charges_1           6354 non-null float64\n",
      "charges_2 (%)       6354 non-null float64\n",
      "Minimum_price       6354 non-null float64\n",
      "Maximum_price       6354 non-null float64\n",
      "Selling_Price       6313 non-null float64\n",
      "dtypes: float64(7), int64(3), object(4)\n",
      "memory usage: 695.1+ KB\n",
      "None\n",
      "<class 'pandas.core.frame.DataFrame'>\n",
      "RangeIndex: 3430 entries, 0 to 3429\n",
      "Data columns (total 13 columns):\n",
      "Product_id          3430 non-null object\n",
      "Stall_no            3430 non-null float64\n",
      "instock_date        3430 non-null object\n",
      "Market_Category     3430 non-null int64\n",
      "Loyalty_customer    3430 non-null object\n",
      "Product_Category    3430 non-null object\n",
      "Grade               3430 non-null int64\n",
      "Demand              3430 non-null int64\n",
      "Discount_avail      3430 non-null int64\n",
      "charges_1           3430 non-null float64\n",
      "charges_2 (%)       3430 non-null float64\n",
      "Minimum_price       3430 non-null float64\n",
      "Maximum_price       3430 non-null int64\n",
      "dtypes: float64(4), int64(5), object(4)\n",
      "memory usage: 348.5+ KB\n",
      "None\n"
     ]
    }
   ],
   "source": [
    "data_train[\"charges_2 (%)\"] = data_train[\"charges_2 (%)\"].fillna(data_train.groupby('Product_Category')['charges_2 (%)'].transform('median'))\n",
    "data_test['charges_2 (%)'] = data_test['charges_2 (%)'].fillna(data_test.groupby('Product_Category')['charges_2 (%)'].transform('median'))\n",
    "data_train['Minimum_price'] = data_train['Minimum_price'].fillna(data_train.groupby('Product_Category')['Minimum_price'].transform('mean'))\n",
    "data_test['Minimum_price'] = data_test['Minimum_price'].fillna(data_test.groupby('Product_Category')['Minimum_price'].transform('mean'))\n",
    "data_train['Maximum_price'] = data_train['Maximum_price'].fillna(data_train.groupby('Product_Category')['Maximum_price'].transform('mean'))\n",
    "data_test['Maximum_price'] = data_test['Maximum_price'].fillna(data_test.groupby('Product_Category')['Maximum_price'].transform('mean'))\n",
    "print(data_train.info())\n",
    "print(data_test.info())"
   ]
  },
  {
   "cell_type": "code",
   "execution_count": 13,
   "metadata": {},
   "outputs": [],
   "source": [
    "from sklearn.preprocessing import OneHotEncoder\n",
    "from sklearn.preprocessing import LabelEncoder\n",
    "\n",
    "ohe = OneHotEncoder()\n",
    "le = LabelEncoder()"
   ]
  },
  {
   "cell_type": "code",
   "execution_count": 14,
   "metadata": {},
   "outputs": [],
   "source": [
    "data_train['Loyalty_customer'] = le.fit_transform(data_train['Loyalty_customer'])\n",
    "data_test['Loyalty_customer'] = le.transform(data_test['Loyalty_customer'])"
   ]
  },
  {
   "cell_type": "code",
   "execution_count": 15,
   "metadata": {},
   "outputs": [],
   "source": [
    "X_train = ohe.fit_transform(data_train['Product_Category'].values.reshape(-1,1)).toarray()\n",
    "dfohe = pd.DataFrame(X_train,columns = ['Product_Category_' + str(int(i)) for i in range(10)])\n",
    "X_test = ohe.transform(data_test['Product_Category'].values.reshape(-1,1)).toarray()\n",
    "dfohe1 = pd.DataFrame(X_test,columns = ['Product_Category_' + str(int(i)) for i in range(10)])"
   ]
  },
  {
   "cell_type": "code",
   "execution_count": 16,
   "metadata": {},
   "outputs": [],
   "source": [
    "df_train = data_train.copy()\n",
    "df_test = data_test.copy()"
   ]
  },
  {
   "cell_type": "code",
   "execution_count": 17,
   "metadata": {},
   "outputs": [
    {
     "data": {
      "text/plain": [
       "((6354, 24), (3430, 23))"
      ]
     },
     "execution_count": 17,
     "metadata": {},
     "output_type": "execute_result"
    }
   ],
   "source": [
    "for i in range(9,-1,-1):\n",
    "    df_train.insert(6,'Product_Category_' + str(int(i)),dfohe['Product_Category_' + str(int(i))],True)\n",
    "    df_test.insert(6,'Product_Category_' + str(int(i)),dfohe1['Product_Category_' + str(int(i))],True)\n",
    "    \n",
    "df_train.shape,df_test.shape"
   ]
  },
  {
   "cell_type": "code",
   "execution_count": 18,
   "metadata": {},
   "outputs": [
    {
     "name": "stdout",
     "output_type": "stream",
     "text": [
      "<class 'pandas.core.frame.DataFrame'>\n",
      "RangeIndex: 6354 entries, 0 to 6353\n",
      "Data columns (total 24 columns):\n",
      "Product_id            6354 non-null object\n",
      "Stall_no              6354 non-null float64\n",
      "instock_date          6354 non-null object\n",
      "Market_Category       6354 non-null int64\n",
      "Loyalty_customer      6354 non-null int32\n",
      "Product_Category      6354 non-null object\n",
      "Product_Category_0    6354 non-null float64\n",
      "Product_Category_1    6354 non-null float64\n",
      "Product_Category_2    6354 non-null float64\n",
      "Product_Category_3    6354 non-null float64\n",
      "Product_Category_4    6354 non-null float64\n",
      "Product_Category_5    6354 non-null float64\n",
      "Product_Category_6    6354 non-null float64\n",
      "Product_Category_7    6354 non-null float64\n",
      "Product_Category_8    6354 non-null float64\n",
      "Product_Category_9    6354 non-null float64\n",
      "Grade                 6354 non-null int64\n",
      "Demand                6354 non-null int64\n",
      "Discount_avail        6354 non-null float64\n",
      "charges_1             6354 non-null float64\n",
      "charges_2 (%)         6354 non-null float64\n",
      "Minimum_price         6354 non-null float64\n",
      "Maximum_price         6354 non-null float64\n",
      "Selling_Price         6354 non-null float64\n",
      "dtypes: float64(17), int32(1), int64(3), object(3)\n",
      "memory usage: 1.1+ MB\n"
     ]
    }
   ],
   "source": [
    "df_train['Selling_Price'] = df_train['Selling_Price'].fillna(df_train.groupby('Product_Category')['Selling_Price'].transform('median'))\n",
    "df_train.info()"
   ]
  },
  {
   "cell_type": "code",
   "execution_count": 19,
   "metadata": {},
   "outputs": [
    {
     "data": {
      "text/plain": [
       "Index(['Stall_no', 'Market_Category', 'Loyalty_customer', 'Product_Category_0',\n",
       "       'Product_Category_1', 'Product_Category_2', 'Product_Category_3',\n",
       "       'Product_Category_4', 'Product_Category_5', 'Product_Category_6',\n",
       "       'Product_Category_7', 'Product_Category_8', 'Product_Category_9',\n",
       "       'Grade', 'Demand', 'Discount_avail', 'charges_1', 'charges_2 (%)',\n",
       "       'Minimum_price', 'Maximum_price', 'Selling_Price'],\n",
       "      dtype='object')"
      ]
     },
     "execution_count": 19,
     "metadata": {},
     "output_type": "execute_result"
    }
   ],
   "source": [
    "del df_train['Product_id']\n",
    "del df_train['instock_date']\n",
    "del df_train['Product_Category']\n",
    "df_train.columns"
   ]
  },
  {
   "cell_type": "code",
   "execution_count": 20,
   "metadata": {},
   "outputs": [],
   "source": [
    "from sklearn.metrics import mean_squared_error\n",
    "from sklearn.model_selection import train_test_split\n",
    "from sklearn.svm import SVR\n",
    "from sklearn.linear_model import LinearRegression\n",
    "from xgboost import XGBRegressor\n",
    "from sklearn.neighbors import KNeighborsRegressor\n",
    "from sklearn.ensemble import RandomForestRegressor\n",
    "from sklearn.tree import DecisionTreeRegressor"
   ]
  },
  {
   "cell_type": "code",
   "execution_count": 21,
   "metadata": {},
   "outputs": [],
   "source": [
    "X = df_train[['Stall_no', 'Market_Category', 'Loyalty_customer', 'Product_Category_0',\n",
    "       'Product_Category_1', 'Product_Category_2', 'Product_Category_3',\n",
    "       'Product_Category_4', 'Product_Category_5', 'Product_Category_6',\n",
    "       'Product_Category_7', 'Product_Category_8', 'Product_Category_9',\n",
    "       'Grade', 'Demand', 'Discount_avail', 'charges_1', 'charges_2 (%)',\n",
    "       'Minimum_price', 'Maximum_price']]\n",
    "Y = df_train[\"Selling_Price\"]"
   ]
  },
  {
   "cell_type": "code",
   "execution_count": 22,
   "metadata": {},
   "outputs": [
    {
     "data": {
      "text/plain": [
       "((4765, 20), (1589, 20))"
      ]
     },
     "execution_count": 22,
     "metadata": {},
     "output_type": "execute_result"
    }
   ],
   "source": [
    "X_train, X_test, Y_train, Y_test = train_test_split(X, Y, random_state = 0)\n",
    "X_train.shape,X_test.shape"
   ]
  },
  {
   "cell_type": "code",
   "execution_count": 23,
   "metadata": {},
   "outputs": [
    {
     "name": "stdout",
     "output_type": "stream",
     "text": [
      "LinearRegression(copy_X=True, fit_intercept=True, n_jobs=None, normalize=False)\n"
     ]
    },
    {
     "data": {
      "text/plain": [
       "0.9125156125954754"
      ]
     },
     "execution_count": 23,
     "metadata": {},
     "output_type": "execute_result"
    }
   ],
   "source": [
    "clf1 = LinearRegression()\n",
    "print(clf1)\n",
    "clf1.fit(X_train,Y_train)\n",
    "clf1.score(X_test,Y_test)"
   ]
  },
  {
   "cell_type": "code",
   "execution_count": 24,
   "metadata": {},
   "outputs": [
    {
     "name": "stdout",
     "output_type": "stream",
     "text": [
      "XGBRegressor(base_score=None, booster=None, colsample_bylevel=None,\n",
      "             colsample_bynode=None, colsample_bytree=None, gamma=None,\n",
      "             gpu_id=None, importance_type='gain', interaction_constraints=None,\n",
      "             learning_rate=None, max_delta_step=None, max_depth=None,\n",
      "             min_child_weight=None, missing=nan, monotone_constraints=None,\n",
      "             n_estimators=100, n_jobs=None, num_parallel_tree=None,\n",
      "             objective='reg:squarederror', random_state=None, reg_alpha=None,\n",
      "             reg_lambda=None, scale_pos_weight=None, subsample=None,\n",
      "             tree_method=None, validate_parameters=False, verbosity=None)\n"
     ]
    },
    {
     "data": {
      "text/plain": [
       "0.9778964521117931"
      ]
     },
     "execution_count": 24,
     "metadata": {},
     "output_type": "execute_result"
    }
   ],
   "source": [
    "clf2 = XGBRegressor()\n",
    "print(clf2)\n",
    "clf2.fit(X_train,Y_train)\n",
    "clf2.score(X_test,Y_test)"
   ]
  },
  {
   "cell_type": "code",
   "execution_count": 25,
   "metadata": {},
   "outputs": [
    {
     "name": "stdout",
     "output_type": "stream",
     "text": [
      "RandomForestRegressor(bootstrap=True, criterion='mse', max_depth=None,\n",
      "                      max_features='auto', max_leaf_nodes=None,\n",
      "                      min_impurity_decrease=0.0, min_impurity_split=None,\n",
      "                      min_samples_leaf=1, min_samples_split=2,\n",
      "                      min_weight_fraction_leaf=0.0, n_estimators='warn',\n",
      "                      n_jobs=None, oob_score=False, random_state=None,\n",
      "                      verbose=0, warm_start=False)\n"
     ]
    },
    {
     "name": "stderr",
     "output_type": "stream",
     "text": [
      "C:\\Users\\admin\\Anaconda3\\lib\\site-packages\\sklearn\\ensemble\\forest.py:245: FutureWarning: The default value of n_estimators will change from 10 in version 0.20 to 100 in 0.22.\n",
      "  \"10 in version 0.20 to 100 in 0.22.\", FutureWarning)\n"
     ]
    },
    {
     "data": {
      "text/plain": [
       "0.9770672588836412"
      ]
     },
     "execution_count": 25,
     "metadata": {},
     "output_type": "execute_result"
    }
   ],
   "source": [
    "clf3 = RandomForestRegressor()\n",
    "print(clf3)\n",
    "clf3.fit(X_train,Y_train)\n",
    "clf3.score(X_test,Y_test)"
   ]
  },
  {
   "cell_type": "code",
   "execution_count": 26,
   "metadata": {},
   "outputs": [
    {
     "name": "stdout",
     "output_type": "stream",
     "text": [
      "KNeighborsRegressor(algorithm='auto', leaf_size=30, metric='minkowski',\n",
      "                    metric_params=None, n_jobs=None, n_neighbors=5, p=2,\n",
      "                    weights='uniform')\n"
     ]
    },
    {
     "data": {
      "text/plain": [
       "0.609302605693603"
      ]
     },
     "execution_count": 26,
     "metadata": {},
     "output_type": "execute_result"
    }
   ],
   "source": [
    "clf4 = KNeighborsRegressor()\n",
    "print(clf4)\n",
    "clf4.fit(X_train,Y_train)\n",
    "clf4.score(X_test,Y_test)"
   ]
  },
  {
   "cell_type": "code",
   "execution_count": 27,
   "metadata": {},
   "outputs": [
    {
     "name": "stdout",
     "output_type": "stream",
     "text": [
      "DecisionTreeRegressor(criterion='mse', max_depth=7, max_features=None,\n",
      "                      max_leaf_nodes=None, min_impurity_decrease=0.0,\n",
      "                      min_impurity_split=None, min_samples_leaf=1,\n",
      "                      min_samples_split=2, min_weight_fraction_leaf=0.0,\n",
      "                      presort=False, random_state=None, splitter='best')\n"
     ]
    },
    {
     "data": {
      "text/plain": [
       "0.9641405813955484"
      ]
     },
     "execution_count": 27,
     "metadata": {},
     "output_type": "execute_result"
    }
   ],
   "source": [
    "clf5 = DecisionTreeRegressor(max_depth=7)\n",
    "print(clf5)\n",
    "clf5.fit(X_train,Y_train)\n",
    "clf5.score(X_test,Y_test)"
   ]
  },
  {
   "cell_type": "code",
   "execution_count": 28,
   "metadata": {},
   "outputs": [
    {
     "data": {
      "text/plain": [
       "Index(['Stall_no', 'Market_Category', 'Loyalty_customer', 'Product_Category_0',\n",
       "       'Product_Category_1', 'Product_Category_2', 'Product_Category_3',\n",
       "       'Product_Category_4', 'Product_Category_5', 'Product_Category_6',\n",
       "       'Product_Category_7', 'Product_Category_8', 'Product_Category_9',\n",
       "       'Grade', 'Demand', 'Discount_avail', 'charges_1', 'charges_2 (%)',\n",
       "       'Minimum_price', 'Maximum_price', 'Selling_Price'],\n",
       "      dtype='object')"
      ]
     },
     "execution_count": 28,
     "metadata": {},
     "output_type": "execute_result"
    }
   ],
   "source": [
    "del df_test['Product_id']\n",
    "del df_test['instock_date']\n",
    "del df_test['Product_Category']\n",
    "df_train.columns"
   ]
  },
  {
   "cell_type": "code",
   "execution_count": 29,
   "metadata": {},
   "outputs": [
    {
     "name": "stdout",
     "output_type": "stream",
     "text": [
      "[ 3221.9416405  1956.22559   12079.560753  ...  6659.7456581  3528.2893745\n",
      "  1027.6429006]\n"
     ]
    }
   ],
   "source": [
    "Y_pred = clf3.predict(df_test)\n",
    "print(Y_pred)"
   ]
  },
  {
   "cell_type": "code",
   "execution_count": 30,
   "metadata": {},
   "outputs": [],
   "source": [
    "Y_pred = clf2.predict(df_test)\n",
    "df = pd.DataFrame(Y_pred,columns = ['Selling_Price'])\n",
    "df.insert(0,'Product_id',data_test['Product_id'],False)\n",
    "df.set_index('Product_id')\n",
    "df.to_csv(\"predictions_xgboost_median.csv\")"
   ]
  },
  {
   "cell_type": "code",
   "execution_count": 31,
   "metadata": {},
   "outputs": [],
   "source": [
    "Y_pred = clf3.predict(df_test)\n",
    "df = pd.DataFrame(Y_pred,columns = ['Selling_Price'])\n",
    "df.insert(0,'Product_id',data_test['Product_id'],False)\n",
    "df.set_index('Product_id')\n",
    "df.to_csv(\"predictions_rf_median.csv\")"
   ]
  },
  {
   "cell_type": "code",
   "execution_count": 32,
   "metadata": {},
   "outputs": [],
   "source": [
    "Y_pred = clf5.predict(df_test)\n",
    "df = pd.DataFrame(Y_pred,columns = ['Selling_Price'])\n",
    "df.insert(0,'Product_id',data_test['Product_id'],False)\n",
    "df.set_index('Product_id')\n",
    "df.to_csv(\"predictions_dt_median.csv\")"
   ]
  },
  {
   "cell_type": "code",
   "execution_count": 33,
   "metadata": {},
   "outputs": [
    {
     "data": {
      "text/plain": [
       "0.9780024859149358"
      ]
     },
     "execution_count": 33,
     "metadata": {},
     "output_type": "execute_result"
    }
   ],
   "source": [
    "from sklearn.model_selection import KFold,cross_val_score\n",
    "\n",
    "k = 6\n",
    "kf = KFold(n_splits = k,random_state = 0)\n",
    "clf6 = XGBRegressor()\n",
    "res = cross_val_score(clf6,X,Y,cv = kf)\n",
    "res.mean()"
   ]
  },
  {
   "cell_type": "code",
   "execution_count": 34,
   "metadata": {},
   "outputs": [
    {
     "name": "stderr",
     "output_type": "stream",
     "text": [
      "C:\\Users\\admin\\Anaconda3\\lib\\site-packages\\sklearn\\ensemble\\forest.py:245: FutureWarning: The default value of n_estimators will change from 10 in version 0.20 to 100 in 0.22.\n",
      "  \"10 in version 0.20 to 100 in 0.22.\", FutureWarning)\n",
      "C:\\Users\\admin\\Anaconda3\\lib\\site-packages\\sklearn\\ensemble\\forest.py:245: FutureWarning: The default value of n_estimators will change from 10 in version 0.20 to 100 in 0.22.\n",
      "  \"10 in version 0.20 to 100 in 0.22.\", FutureWarning)\n",
      "C:\\Users\\admin\\Anaconda3\\lib\\site-packages\\sklearn\\ensemble\\forest.py:245: FutureWarning: The default value of n_estimators will change from 10 in version 0.20 to 100 in 0.22.\n",
      "  \"10 in version 0.20 to 100 in 0.22.\", FutureWarning)\n",
      "C:\\Users\\admin\\Anaconda3\\lib\\site-packages\\sklearn\\ensemble\\forest.py:245: FutureWarning: The default value of n_estimators will change from 10 in version 0.20 to 100 in 0.22.\n",
      "  \"10 in version 0.20 to 100 in 0.22.\", FutureWarning)\n",
      "C:\\Users\\admin\\Anaconda3\\lib\\site-packages\\sklearn\\ensemble\\forest.py:245: FutureWarning: The default value of n_estimators will change from 10 in version 0.20 to 100 in 0.22.\n",
      "  \"10 in version 0.20 to 100 in 0.22.\", FutureWarning)\n",
      "C:\\Users\\admin\\Anaconda3\\lib\\site-packages\\sklearn\\ensemble\\forest.py:245: FutureWarning: The default value of n_estimators will change from 10 in version 0.20 to 100 in 0.22.\n",
      "  \"10 in version 0.20 to 100 in 0.22.\", FutureWarning)\n"
     ]
    },
    {
     "data": {
      "text/plain": [
       "0.9763036184767654"
      ]
     },
     "execution_count": 34,
     "metadata": {},
     "output_type": "execute_result"
    }
   ],
   "source": [
    "clf7 = RandomForestRegressor()\n",
    "res = cross_val_score(clf7,X,Y,cv = kf)\n",
    "res.mean()"
   ]
  },
  {
   "cell_type": "code",
   "execution_count": 35,
   "metadata": {},
   "outputs": [
    {
     "data": {
      "text/plain": [
       "0.8988888493351667"
      ]
     },
     "execution_count": 35,
     "metadata": {},
     "output_type": "execute_result"
    }
   ],
   "source": [
    "clf8 = LinearRegression()\n",
    "res = cross_val_score(clf8,X,Y,cv = kf)\n",
    "res.mean()"
   ]
  },
  {
   "cell_type": "code",
   "execution_count": 36,
   "metadata": {},
   "outputs": [
    {
     "data": {
      "text/plain": [
       "Index(['Stall_no', 'Market_Category', 'Loyalty_customer', 'Product_Category_0',\n",
       "       'Product_Category_1', 'Product_Category_2', 'Product_Category_3',\n",
       "       'Product_Category_4', 'Product_Category_5', 'Product_Category_6',\n",
       "       'Product_Category_7', 'Product_Category_8', 'Product_Category_9',\n",
       "       'Grade', 'Demand', 'Discount_avail', 'charges_1', 'charges_2 (%)',\n",
       "       'Minimum_price', 'Maximum_price'],\n",
       "      dtype='object')"
      ]
     },
     "execution_count": 36,
     "metadata": {},
     "output_type": "execute_result"
    }
   ],
   "source": [
    "df_test.columns"
   ]
  },
  {
   "cell_type": "code",
   "execution_count": 37,
   "metadata": {},
   "outputs": [],
   "source": [
    "clf6.fit(X_train,Y_train)\n",
    "Y_pred = clf6.predict(df_test)\n",
    "df = pd.DataFrame(Y_pred,columns = ['Selling_Price'])\n",
    "df.insert(0,'Product_id',data_test['Product_id'],False)\n",
    "df.set_index('Product_id')\n",
    "df.to_csv(\"predictions_xgboost_cv.csv\")"
   ]
  },
  {
   "cell_type": "code",
   "execution_count": 38,
   "metadata": {},
   "outputs": [],
   "source": [
    "import warnings\n",
    "warnings.filterwarnings('ignore')\n",
    "from sklearn.ensemble import VotingRegressor"
   ]
  },
  {
   "cell_type": "code",
   "execution_count": 39,
   "metadata": {},
   "outputs": [
    {
     "data": {
      "text/plain": [
       "0.9802876211222635"
      ]
     },
     "execution_count": 39,
     "metadata": {},
     "output_type": "execute_result"
    }
   ],
   "source": [
    "xgb = XGBRegressor()\n",
    "rfr = RandomForestRegressor()\n",
    "dt = DecisionTreeRegressor()\n",
    "ereg = VotingRegressor(estimators=[('xg',xgb),('rfr',rfr)],weights = [4,3])\n",
    "ereg.fit(X_train,Y_train)\n",
    "ereg.score(X_test,Y_test)"
   ]
  },
  {
   "cell_type": "code",
   "execution_count": 40,
   "metadata": {},
   "outputs": [],
   "source": [
    "Y_pred = ereg.predict(df_test)\n",
    "df = pd.DataFrame(Y_pred,columns = ['Selling_Price'])\n",
    "df.insert(0,'Product_id',data_test['Product_id'],False)\n",
    "df.set_index('Product_id')\n",
    "df.to_csv(\"predictions_ereg.csv\")"
   ]
  },
  {
   "cell_type": "code",
   "execution_count": 41,
   "metadata": {},
   "outputs": [
    {
     "data": {
      "text/plain": [
       "0.9793952507330329"
      ]
     },
     "execution_count": 41,
     "metadata": {},
     "output_type": "execute_result"
    }
   ],
   "source": [
    "res = cross_val_score(ereg,X,Y,cv = kf)\n",
    "res.mean()"
   ]
  },
  {
   "cell_type": "code",
   "execution_count": 42,
   "metadata": {},
   "outputs": [
    {
     "data": {
      "text/plain": [
       "0.9802369173620499"
      ]
     },
     "execution_count": 42,
     "metadata": {},
     "output_type": "execute_result"
    }
   ],
   "source": [
    "ereg.fit(X_train,Y_train)\n",
    "ereg.score(X_test,Y_test)"
   ]
  },
  {
   "cell_type": "code",
   "execution_count": 43,
   "metadata": {},
   "outputs": [
    {
     "data": {
      "text/plain": [
       "(Index(['Stall_no', 'instock_date', 'Market_Category', 'Loyalty_customer',\n",
       "        'Product_Category_0', 'Product_Category_1', 'Product_Category_2',\n",
       "        'Product_Category_3', 'Product_Category_4', 'Product_Category_5',\n",
       "        'Product_Category_6', 'Product_Category_7', 'Product_Category_8',\n",
       "        'Product_Category_9', 'Grade', 'Demand', 'Discount_avail', 'charges_1',\n",
       "        'charges_2 (%)', 'Minimum_price', 'Maximum_price', 'Selling_Price'],\n",
       "       dtype='object'),\n",
       " Index(['Stall_no', 'instock_date', 'Market_Category', 'Loyalty_customer',\n",
       "        'Product_Category_0', 'Product_Category_1', 'Product_Category_2',\n",
       "        'Product_Category_3', 'Product_Category_4', 'Product_Category_5',\n",
       "        'Product_Category_6', 'Product_Category_7', 'Product_Category_8',\n",
       "        'Product_Category_9', 'Grade', 'Demand', 'Discount_avail', 'charges_1',\n",
       "        'charges_2 (%)', 'Minimum_price', 'Maximum_price'],\n",
       "       dtype='object'))"
      ]
     },
     "execution_count": 43,
     "metadata": {},
     "output_type": "execute_result"
    }
   ],
   "source": [
    "df_train.insert(1,'instock_date',data_train['instock_date'])\n",
    "df_test.insert(1,'instock_date',data_test['instock_date'])\n",
    "df_train.columns,df_test.columns"
   ]
  },
  {
   "cell_type": "code",
   "execution_count": 44,
   "metadata": {},
   "outputs": [],
   "source": [
    "from datetime import datetime\n",
    "end_date = datetime.today()"
   ]
  },
  {
   "cell_type": "code",
   "execution_count": 45,
   "metadata": {},
   "outputs": [
    {
     "name": "stdout",
     "output_type": "stream",
     "text": [
      "<class 'pandas.core.frame.DataFrame'>\n",
      "RangeIndex: 6354 entries, 0 to 6353\n",
      "Data columns (total 22 columns):\n",
      "Stall_no              6354 non-null float64\n",
      "instock_date          6354 non-null datetime64[ns]\n",
      "Market_Category       6354 non-null int64\n",
      "Loyalty_customer      6354 non-null int32\n",
      "Product_Category_0    6354 non-null float64\n",
      "Product_Category_1    6354 non-null float64\n",
      "Product_Category_2    6354 non-null float64\n",
      "Product_Category_3    6354 non-null float64\n",
      "Product_Category_4    6354 non-null float64\n",
      "Product_Category_5    6354 non-null float64\n",
      "Product_Category_6    6354 non-null float64\n",
      "Product_Category_7    6354 non-null float64\n",
      "Product_Category_8    6354 non-null float64\n",
      "Product_Category_9    6354 non-null float64\n",
      "Grade                 6354 non-null int64\n",
      "Demand                6354 non-null int64\n",
      "Discount_avail        6354 non-null float64\n",
      "charges_1             6354 non-null float64\n",
      "charges_2 (%)         6354 non-null float64\n",
      "Minimum_price         6354 non-null float64\n",
      "Maximum_price         6354 non-null float64\n",
      "Selling_Price         6354 non-null float64\n",
      "dtypes: datetime64[ns](1), float64(17), int32(1), int64(3)\n",
      "memory usage: 1.0 MB\n"
     ]
    }
   ],
   "source": [
    "df_train['instock_date'] = pd.to_datetime(df_train['instock_date'], errors='coerce', format= '%M:%S.0')\n",
    "df_test['instock_date'] = pd.to_datetime(df_test['instock_date'], errors='coerce', format= '%y-%m-%d %H:%M:%S.0')\n",
    "df_train.info()"
   ]
  },
  {
   "cell_type": "code",
   "execution_count": 46,
   "metadata": {},
   "outputs": [
    {
     "data": {
      "text/plain": [
       "(0    36\n",
       " 1    19\n",
       " 2    25\n",
       " 3    53\n",
       " 4    58\n",
       " Name: instock_date_min, dtype: int64, 0    12\n",
       " 1    13\n",
       " 2    22\n",
       " 3     1\n",
       " 4    53\n",
       " Name: instock_date_sec, dtype: int64)"
      ]
     },
     "execution_count": 46,
     "metadata": {},
     "output_type": "execute_result"
    }
   ],
   "source": [
    "df_train['instock_date_min'] = df_train['instock_date'].dt.minute\n",
    "df_train['instock_date_sec'] = df_train['instock_date'].dt.second\n",
    "df_test['instock_date_min'] = df_test['instock_date'].dt.minute\n",
    "df_test['instock_date_sec'] = df_test['instock_date'].dt.second\n",
    "df_train['instock_date_min'].head(),df_train['instock_date_sec'].head()"
   ]
  },
  {
   "cell_type": "code",
   "execution_count": 47,
   "metadata": {},
   "outputs": [
    {
     "data": {
      "text/plain": [
       "(Index(['Stall_no', 'instock_date', 'Market_Category', 'Loyalty_customer',\n",
       "        'Product_Category_0', 'Product_Category_1', 'Product_Category_2',\n",
       "        'Product_Category_3', 'Product_Category_4', 'Product_Category_5',\n",
       "        'Product_Category_6', 'Product_Category_7', 'Product_Category_8',\n",
       "        'Product_Category_9', 'Grade', 'Demand', 'Discount_avail', 'charges_1',\n",
       "        'charges_2 (%)', 'Minimum_price', 'Maximum_price', 'Selling_Price',\n",
       "        'instock_date_min', 'instock_date_sec'],\n",
       "       dtype='object'),\n",
       " Index(['Stall_no', 'instock_date', 'Market_Category', 'Loyalty_customer',\n",
       "        'Product_Category_0', 'Product_Category_1', 'Product_Category_2',\n",
       "        'Product_Category_3', 'Product_Category_4', 'Product_Category_5',\n",
       "        'Product_Category_6', 'Product_Category_7', 'Product_Category_8',\n",
       "        'Product_Category_9', 'Grade', 'Demand', 'Discount_avail', 'charges_1',\n",
       "        'charges_2 (%)', 'Minimum_price', 'Maximum_price', 'instock_date_min',\n",
       "        'instock_date_sec'],\n",
       "       dtype='object'))"
      ]
     },
     "execution_count": 47,
     "metadata": {},
     "output_type": "execute_result"
    }
   ],
   "source": [
    "df_train.columns,df_test.columns"
   ]
  },
  {
   "cell_type": "code",
   "execution_count": 48,
   "metadata": {},
   "outputs": [
    {
     "name": "stdout",
     "output_type": "stream",
     "text": [
      "<class 'pandas.core.frame.DataFrame'>\n",
      "RangeIndex: 6354 entries, 0 to 6353\n",
      "Data columns (total 22 columns):\n",
      "Stall_no              6354 non-null float64\n",
      "Market_Category       6354 non-null int64\n",
      "Loyalty_customer      6354 non-null int32\n",
      "Product_Category_0    6354 non-null float64\n",
      "Product_Category_1    6354 non-null float64\n",
      "Product_Category_2    6354 non-null float64\n",
      "Product_Category_3    6354 non-null float64\n",
      "Product_Category_4    6354 non-null float64\n",
      "Product_Category_5    6354 non-null float64\n",
      "Product_Category_6    6354 non-null float64\n",
      "Product_Category_7    6354 non-null float64\n",
      "Product_Category_8    6354 non-null float64\n",
      "Product_Category_9    6354 non-null float64\n",
      "Grade                 6354 non-null int64\n",
      "Demand                6354 non-null int64\n",
      "Discount_avail        6354 non-null float64\n",
      "charges_1             6354 non-null float64\n",
      "charges_2 (%)         6354 non-null float64\n",
      "Minimum_price         6354 non-null float64\n",
      "Maximum_price         6354 non-null float64\n",
      "instock_date_min      6354 non-null int64\n",
      "instock_date_sec      6354 non-null int64\n",
      "dtypes: float64(16), int32(1), int64(5)\n",
      "memory usage: 1.0 MB\n"
     ]
    }
   ],
   "source": [
    "X = df_train[['Stall_no','Market_Category', 'Loyalty_customer',\n",
    "        'Product_Category_0', 'Product_Category_1', 'Product_Category_2',\n",
    "        'Product_Category_3', 'Product_Category_4', 'Product_Category_5',\n",
    "        'Product_Category_6', 'Product_Category_7', 'Product_Category_8',\n",
    "        'Product_Category_9', 'Grade', 'Demand', 'Discount_avail', 'charges_1',\n",
    "        'charges_2 (%)', 'Minimum_price', 'Maximum_price',\n",
    "        'instock_date_min', 'instock_date_sec']]\n",
    "Y = df_train['Selling_Price']\n",
    "X.info()"
   ]
  },
  {
   "cell_type": "code",
   "execution_count": 49,
   "metadata": {},
   "outputs": [
    {
     "data": {
      "text/plain": [
       "((4765, 22), (1589, 22))"
      ]
     },
     "execution_count": 49,
     "metadata": {},
     "output_type": "execute_result"
    }
   ],
   "source": [
    "X_train, X_test, Y_train, Y_test = train_test_split(X, Y, random_state = 0)\n",
    "X_train.shape,X_test.shape"
   ]
  },
  {
   "cell_type": "code",
   "execution_count": 50,
   "metadata": {},
   "outputs": [
    {
     "data": {
      "text/plain": [
       "0.9771105604284406"
      ]
     },
     "execution_count": 50,
     "metadata": {},
     "output_type": "execute_result"
    }
   ],
   "source": [
    "clf2.fit(X_train,Y_train)\n",
    "clf2.score(X_test,Y_test)"
   ]
  },
  {
   "cell_type": "code",
   "execution_count": 51,
   "metadata": {},
   "outputs": [
    {
     "data": {
      "text/plain": [
       "0.9778270718015561"
      ]
     },
     "execution_count": 51,
     "metadata": {},
     "output_type": "execute_result"
    }
   ],
   "source": [
    "clf3.fit(X_train,Y_train)\n",
    "clf3.score(X_test,Y_test)"
   ]
  },
  {
   "cell_type": "code",
   "execution_count": 52,
   "metadata": {},
   "outputs": [
    {
     "data": {
      "text/plain": [
       "0.9761790084967605"
      ]
     },
     "execution_count": 52,
     "metadata": {},
     "output_type": "execute_result"
    }
   ],
   "source": [
    "clf5.fit(X_train,Y_train)\n",
    "clf5.score(X_train,Y_train)"
   ]
  },
  {
   "cell_type": "code",
   "execution_count": 53,
   "metadata": {},
   "outputs": [
    {
     "data": {
      "text/plain": [
       "0.9776429427908568"
      ]
     },
     "execution_count": 53,
     "metadata": {},
     "output_type": "execute_result"
    }
   ],
   "source": [
    "k = 6\n",
    "kf = KFold(n_splits = k,random_state = 0)\n",
    "clf6 = XGBRegressor()\n",
    "res = cross_val_score(clf6,X,Y,cv = kf)\n",
    "res.mean()"
   ]
  },
  {
   "cell_type": "code",
   "execution_count": 54,
   "metadata": {},
   "outputs": [
    {
     "data": {
      "text/plain": [
       "0.9758143170217202"
      ]
     },
     "execution_count": 54,
     "metadata": {},
     "output_type": "execute_result"
    }
   ],
   "source": [
    "rf = RandomForestRegressor()\n",
    "res = cross_val_score(rf,X,Y,cv=kf)\n",
    "res.mean()"
   ]
  },
  {
   "cell_type": "code",
   "execution_count": 62,
   "metadata": {},
   "outputs": [],
   "source": [
    "xgb = XGBRegressor()\n",
    "rfr = RandomForestRegressor()\n",
    "dt = DecisionTreeRegressor()\n",
    "ereg = VotingRegressor(estimators=[('xg',xgb),('rfr',rfr)],weights = [3,1])\n",
    "#ereg.fit(X_train,Y_train)\n",
    "#ereg.score(X_test,Y_test)"
   ]
  },
  {
   "cell_type": "code",
   "execution_count": 63,
   "metadata": {},
   "outputs": [
    {
     "data": {
      "text/plain": [
       "0.9788937722388819"
      ]
     },
     "execution_count": 63,
     "metadata": {},
     "output_type": "execute_result"
    }
   ],
   "source": [
    "res = cross_val_score(ereg,X,Y,cv=kf)\n",
    "res.mean()"
   ]
  },
  {
   "cell_type": "code",
   "execution_count": 57,
   "metadata": {},
   "outputs": [],
   "source": [
    "del df_test['instock_date']"
   ]
  },
  {
   "cell_type": "code",
   "execution_count": 64,
   "metadata": {},
   "outputs": [
    {
     "ename": "ValueError",
     "evalue": "Input contains NaN, infinity or a value too large for dtype('float32').",
     "output_type": "error",
     "traceback": [
      "\u001b[1;31m---------------------------------------------------------------------------\u001b[0m",
      "\u001b[1;31mValueError\u001b[0m                                Traceback (most recent call last)",
      "\u001b[1;32m<ipython-input-64-91ba5e09019c>\u001b[0m in \u001b[0;36m<module>\u001b[1;34m\u001b[0m\n\u001b[0;32m      1\u001b[0m \u001b[0mereg\u001b[0m\u001b[1;33m.\u001b[0m\u001b[0mfit\u001b[0m\u001b[1;33m(\u001b[0m\u001b[0mX_train\u001b[0m\u001b[1;33m,\u001b[0m\u001b[0mY_train\u001b[0m\u001b[1;33m)\u001b[0m\u001b[1;33m\u001b[0m\u001b[1;33m\u001b[0m\u001b[0m\n\u001b[1;32m----> 2\u001b[1;33m \u001b[0mY_pred\u001b[0m \u001b[1;33m=\u001b[0m \u001b[0mereg\u001b[0m\u001b[1;33m.\u001b[0m\u001b[0mpredict\u001b[0m\u001b[1;33m(\u001b[0m\u001b[0mdf_test\u001b[0m\u001b[1;33m)\u001b[0m\u001b[1;33m\u001b[0m\u001b[1;33m\u001b[0m\u001b[0m\n\u001b[0m\u001b[0;32m      3\u001b[0m \u001b[0mdf\u001b[0m \u001b[1;33m=\u001b[0m \u001b[0mpd\u001b[0m\u001b[1;33m.\u001b[0m\u001b[0mDataFrame\u001b[0m\u001b[1;33m(\u001b[0m\u001b[0mY_pred\u001b[0m\u001b[1;33m,\u001b[0m\u001b[0mcolumns\u001b[0m \u001b[1;33m=\u001b[0m \u001b[1;33m[\u001b[0m\u001b[1;34m'Selling_Price'\u001b[0m\u001b[1;33m]\u001b[0m\u001b[1;33m)\u001b[0m\u001b[1;33m\u001b[0m\u001b[1;33m\u001b[0m\u001b[0m\n\u001b[0;32m      4\u001b[0m \u001b[0mdf\u001b[0m\u001b[1;33m.\u001b[0m\u001b[0minsert\u001b[0m\u001b[1;33m(\u001b[0m\u001b[1;36m0\u001b[0m\u001b[1;33m,\u001b[0m\u001b[1;34m'Product_id'\u001b[0m\u001b[1;33m,\u001b[0m\u001b[0mdata_test\u001b[0m\u001b[1;33m[\u001b[0m\u001b[1;34m'Product_id'\u001b[0m\u001b[1;33m]\u001b[0m\u001b[1;33m,\u001b[0m\u001b[1;32mFalse\u001b[0m\u001b[1;33m)\u001b[0m\u001b[1;33m\u001b[0m\u001b[1;33m\u001b[0m\u001b[0m\n\u001b[0;32m      5\u001b[0m \u001b[0mdf\u001b[0m\u001b[1;33m.\u001b[0m\u001b[0mset_index\u001b[0m\u001b[1;33m(\u001b[0m\u001b[1;34m'Product_id'\u001b[0m\u001b[1;33m)\u001b[0m\u001b[1;33m\u001b[0m\u001b[1;33m\u001b[0m\u001b[0m\n",
      "\u001b[1;32m~\\Anaconda3\\lib\\site-packages\\sklearn\\ensemble\\voting.py\u001b[0m in \u001b[0;36mpredict\u001b[1;34m(self, X)\u001b[0m\n\u001b[0;32m    474\u001b[0m         \"\"\"\n\u001b[0;32m    475\u001b[0m         \u001b[0mcheck_is_fitted\u001b[0m\u001b[1;33m(\u001b[0m\u001b[0mself\u001b[0m\u001b[1;33m,\u001b[0m \u001b[1;34m\"estimators_\"\u001b[0m\u001b[1;33m)\u001b[0m\u001b[1;33m\u001b[0m\u001b[1;33m\u001b[0m\u001b[0m\n\u001b[1;32m--> 476\u001b[1;33m         return np.average(self._predict(X), axis=1,\n\u001b[0m\u001b[0;32m    477\u001b[0m                           weights=self._weights_not_none)\n\u001b[0;32m    478\u001b[0m \u001b[1;33m\u001b[0m\u001b[0m\n",
      "\u001b[1;32m~\\Anaconda3\\lib\\site-packages\\sklearn\\ensemble\\voting.py\u001b[0m in \u001b[0;36m_predict\u001b[1;34m(self, X)\u001b[0m\n\u001b[0;32m     67\u001b[0m     \u001b[1;32mdef\u001b[0m \u001b[0m_predict\u001b[0m\u001b[1;33m(\u001b[0m\u001b[0mself\u001b[0m\u001b[1;33m,\u001b[0m \u001b[0mX\u001b[0m\u001b[1;33m)\u001b[0m\u001b[1;33m:\u001b[0m\u001b[1;33m\u001b[0m\u001b[1;33m\u001b[0m\u001b[0m\n\u001b[0;32m     68\u001b[0m         \u001b[1;34m\"\"\"Collect results from clf.predict calls. \"\"\"\u001b[0m\u001b[1;33m\u001b[0m\u001b[1;33m\u001b[0m\u001b[0m\n\u001b[1;32m---> 69\u001b[1;33m         \u001b[1;32mreturn\u001b[0m \u001b[0mnp\u001b[0m\u001b[1;33m.\u001b[0m\u001b[0masarray\u001b[0m\u001b[1;33m(\u001b[0m\u001b[1;33m[\u001b[0m\u001b[0mclf\u001b[0m\u001b[1;33m.\u001b[0m\u001b[0mpredict\u001b[0m\u001b[1;33m(\u001b[0m\u001b[0mX\u001b[0m\u001b[1;33m)\u001b[0m \u001b[1;32mfor\u001b[0m \u001b[0mclf\u001b[0m \u001b[1;32min\u001b[0m \u001b[0mself\u001b[0m\u001b[1;33m.\u001b[0m\u001b[0mestimators_\u001b[0m\u001b[1;33m]\u001b[0m\u001b[1;33m)\u001b[0m\u001b[1;33m.\u001b[0m\u001b[0mT\u001b[0m\u001b[1;33m\u001b[0m\u001b[1;33m\u001b[0m\u001b[0m\n\u001b[0m\u001b[0;32m     70\u001b[0m \u001b[1;33m\u001b[0m\u001b[0m\n\u001b[0;32m     71\u001b[0m     \u001b[1;33m@\u001b[0m\u001b[0mabstractmethod\u001b[0m\u001b[1;33m\u001b[0m\u001b[1;33m\u001b[0m\u001b[0m\n",
      "\u001b[1;32m~\\Anaconda3\\lib\\site-packages\\sklearn\\ensemble\\voting.py\u001b[0m in \u001b[0;36m<listcomp>\u001b[1;34m(.0)\u001b[0m\n\u001b[0;32m     67\u001b[0m     \u001b[1;32mdef\u001b[0m \u001b[0m_predict\u001b[0m\u001b[1;33m(\u001b[0m\u001b[0mself\u001b[0m\u001b[1;33m,\u001b[0m \u001b[0mX\u001b[0m\u001b[1;33m)\u001b[0m\u001b[1;33m:\u001b[0m\u001b[1;33m\u001b[0m\u001b[1;33m\u001b[0m\u001b[0m\n\u001b[0;32m     68\u001b[0m         \u001b[1;34m\"\"\"Collect results from clf.predict calls. \"\"\"\u001b[0m\u001b[1;33m\u001b[0m\u001b[1;33m\u001b[0m\u001b[0m\n\u001b[1;32m---> 69\u001b[1;33m         \u001b[1;32mreturn\u001b[0m \u001b[0mnp\u001b[0m\u001b[1;33m.\u001b[0m\u001b[0masarray\u001b[0m\u001b[1;33m(\u001b[0m\u001b[1;33m[\u001b[0m\u001b[0mclf\u001b[0m\u001b[1;33m.\u001b[0m\u001b[0mpredict\u001b[0m\u001b[1;33m(\u001b[0m\u001b[0mX\u001b[0m\u001b[1;33m)\u001b[0m \u001b[1;32mfor\u001b[0m \u001b[0mclf\u001b[0m \u001b[1;32min\u001b[0m \u001b[0mself\u001b[0m\u001b[1;33m.\u001b[0m\u001b[0mestimators_\u001b[0m\u001b[1;33m]\u001b[0m\u001b[1;33m)\u001b[0m\u001b[1;33m.\u001b[0m\u001b[0mT\u001b[0m\u001b[1;33m\u001b[0m\u001b[1;33m\u001b[0m\u001b[0m\n\u001b[0m\u001b[0;32m     70\u001b[0m \u001b[1;33m\u001b[0m\u001b[0m\n\u001b[0;32m     71\u001b[0m     \u001b[1;33m@\u001b[0m\u001b[0mabstractmethod\u001b[0m\u001b[1;33m\u001b[0m\u001b[1;33m\u001b[0m\u001b[0m\n",
      "\u001b[1;32m~\\Anaconda3\\lib\\site-packages\\sklearn\\ensemble\\forest.py\u001b[0m in \u001b[0;36mpredict\u001b[1;34m(self, X)\u001b[0m\n\u001b[0;32m    691\u001b[0m         \u001b[0mcheck_is_fitted\u001b[0m\u001b[1;33m(\u001b[0m\u001b[0mself\u001b[0m\u001b[1;33m,\u001b[0m \u001b[1;34m'estimators_'\u001b[0m\u001b[1;33m)\u001b[0m\u001b[1;33m\u001b[0m\u001b[1;33m\u001b[0m\u001b[0m\n\u001b[0;32m    692\u001b[0m         \u001b[1;31m# Check data\u001b[0m\u001b[1;33m\u001b[0m\u001b[1;33m\u001b[0m\u001b[1;33m\u001b[0m\u001b[0m\n\u001b[1;32m--> 693\u001b[1;33m         \u001b[0mX\u001b[0m \u001b[1;33m=\u001b[0m \u001b[0mself\u001b[0m\u001b[1;33m.\u001b[0m\u001b[0m_validate_X_predict\u001b[0m\u001b[1;33m(\u001b[0m\u001b[0mX\u001b[0m\u001b[1;33m)\u001b[0m\u001b[1;33m\u001b[0m\u001b[1;33m\u001b[0m\u001b[0m\n\u001b[0m\u001b[0;32m    694\u001b[0m \u001b[1;33m\u001b[0m\u001b[0m\n\u001b[0;32m    695\u001b[0m         \u001b[1;31m# Assign chunk of trees to jobs\u001b[0m\u001b[1;33m\u001b[0m\u001b[1;33m\u001b[0m\u001b[1;33m\u001b[0m\u001b[0m\n",
      "\u001b[1;32m~\\Anaconda3\\lib\\site-packages\\sklearn\\ensemble\\forest.py\u001b[0m in \u001b[0;36m_validate_X_predict\u001b[1;34m(self, X)\u001b[0m\n\u001b[0;32m    357\u001b[0m                                  \"call `fit` before exploiting the model.\")\n\u001b[0;32m    358\u001b[0m \u001b[1;33m\u001b[0m\u001b[0m\n\u001b[1;32m--> 359\u001b[1;33m         \u001b[1;32mreturn\u001b[0m \u001b[0mself\u001b[0m\u001b[1;33m.\u001b[0m\u001b[0mestimators_\u001b[0m\u001b[1;33m[\u001b[0m\u001b[1;36m0\u001b[0m\u001b[1;33m]\u001b[0m\u001b[1;33m.\u001b[0m\u001b[0m_validate_X_predict\u001b[0m\u001b[1;33m(\u001b[0m\u001b[0mX\u001b[0m\u001b[1;33m,\u001b[0m \u001b[0mcheck_input\u001b[0m\u001b[1;33m=\u001b[0m\u001b[1;32mTrue\u001b[0m\u001b[1;33m)\u001b[0m\u001b[1;33m\u001b[0m\u001b[1;33m\u001b[0m\u001b[0m\n\u001b[0m\u001b[0;32m    360\u001b[0m \u001b[1;33m\u001b[0m\u001b[0m\n\u001b[0;32m    361\u001b[0m     \u001b[1;33m@\u001b[0m\u001b[0mproperty\u001b[0m\u001b[1;33m\u001b[0m\u001b[1;33m\u001b[0m\u001b[0m\n",
      "\u001b[1;32m~\\Anaconda3\\lib\\site-packages\\sklearn\\tree\\tree.py\u001b[0m in \u001b[0;36m_validate_X_predict\u001b[1;34m(self, X, check_input)\u001b[0m\n\u001b[0;32m    389\u001b[0m         \u001b[1;34m\"\"\"Validate X whenever one tries to predict, apply, predict_proba\"\"\"\u001b[0m\u001b[1;33m\u001b[0m\u001b[1;33m\u001b[0m\u001b[0m\n\u001b[0;32m    390\u001b[0m         \u001b[1;32mif\u001b[0m \u001b[0mcheck_input\u001b[0m\u001b[1;33m:\u001b[0m\u001b[1;33m\u001b[0m\u001b[1;33m\u001b[0m\u001b[0m\n\u001b[1;32m--> 391\u001b[1;33m             \u001b[0mX\u001b[0m \u001b[1;33m=\u001b[0m \u001b[0mcheck_array\u001b[0m\u001b[1;33m(\u001b[0m\u001b[0mX\u001b[0m\u001b[1;33m,\u001b[0m \u001b[0mdtype\u001b[0m\u001b[1;33m=\u001b[0m\u001b[0mDTYPE\u001b[0m\u001b[1;33m,\u001b[0m \u001b[0maccept_sparse\u001b[0m\u001b[1;33m=\u001b[0m\u001b[1;34m\"csr\"\u001b[0m\u001b[1;33m)\u001b[0m\u001b[1;33m\u001b[0m\u001b[1;33m\u001b[0m\u001b[0m\n\u001b[0m\u001b[0;32m    392\u001b[0m             if issparse(X) and (X.indices.dtype != np.intc or\n\u001b[0;32m    393\u001b[0m                                 X.indptr.dtype != np.intc):\n",
      "\u001b[1;32m~\\Anaconda3\\lib\\site-packages\\sklearn\\utils\\validation.py\u001b[0m in \u001b[0;36mcheck_array\u001b[1;34m(array, accept_sparse, accept_large_sparse, dtype, order, copy, force_all_finite, ensure_2d, allow_nd, ensure_min_samples, ensure_min_features, warn_on_dtype, estimator)\u001b[0m\n\u001b[0;32m    540\u001b[0m         \u001b[1;32mif\u001b[0m \u001b[0mforce_all_finite\u001b[0m\u001b[1;33m:\u001b[0m\u001b[1;33m\u001b[0m\u001b[1;33m\u001b[0m\u001b[0m\n\u001b[0;32m    541\u001b[0m             _assert_all_finite(array,\n\u001b[1;32m--> 542\u001b[1;33m                                allow_nan=force_all_finite == 'allow-nan')\n\u001b[0m\u001b[0;32m    543\u001b[0m \u001b[1;33m\u001b[0m\u001b[0m\n\u001b[0;32m    544\u001b[0m     \u001b[1;32mif\u001b[0m \u001b[0mensure_min_samples\u001b[0m \u001b[1;33m>\u001b[0m \u001b[1;36m0\u001b[0m\u001b[1;33m:\u001b[0m\u001b[1;33m\u001b[0m\u001b[1;33m\u001b[0m\u001b[0m\n",
      "\u001b[1;32m~\\Anaconda3\\lib\\site-packages\\sklearn\\utils\\validation.py\u001b[0m in \u001b[0;36m_assert_all_finite\u001b[1;34m(X, allow_nan)\u001b[0m\n\u001b[0;32m     54\u001b[0m                 not allow_nan and not np.isfinite(X).all()):\n\u001b[0;32m     55\u001b[0m             \u001b[0mtype_err\u001b[0m \u001b[1;33m=\u001b[0m \u001b[1;34m'infinity'\u001b[0m \u001b[1;32mif\u001b[0m \u001b[0mallow_nan\u001b[0m \u001b[1;32melse\u001b[0m \u001b[1;34m'NaN, infinity'\u001b[0m\u001b[1;33m\u001b[0m\u001b[1;33m\u001b[0m\u001b[0m\n\u001b[1;32m---> 56\u001b[1;33m             \u001b[1;32mraise\u001b[0m \u001b[0mValueError\u001b[0m\u001b[1;33m(\u001b[0m\u001b[0mmsg_err\u001b[0m\u001b[1;33m.\u001b[0m\u001b[0mformat\u001b[0m\u001b[1;33m(\u001b[0m\u001b[0mtype_err\u001b[0m\u001b[1;33m,\u001b[0m \u001b[0mX\u001b[0m\u001b[1;33m.\u001b[0m\u001b[0mdtype\u001b[0m\u001b[1;33m)\u001b[0m\u001b[1;33m)\u001b[0m\u001b[1;33m\u001b[0m\u001b[1;33m\u001b[0m\u001b[0m\n\u001b[0m\u001b[0;32m     57\u001b[0m     \u001b[1;31m# for object dtype data, we only check for NaNs (GH-13254)\u001b[0m\u001b[1;33m\u001b[0m\u001b[1;33m\u001b[0m\u001b[1;33m\u001b[0m\u001b[0m\n\u001b[0;32m     58\u001b[0m     \u001b[1;32melif\u001b[0m \u001b[0mX\u001b[0m\u001b[1;33m.\u001b[0m\u001b[0mdtype\u001b[0m \u001b[1;33m==\u001b[0m \u001b[0mnp\u001b[0m\u001b[1;33m.\u001b[0m\u001b[0mdtype\u001b[0m\u001b[1;33m(\u001b[0m\u001b[1;34m'object'\u001b[0m\u001b[1;33m)\u001b[0m \u001b[1;32mand\u001b[0m \u001b[1;32mnot\u001b[0m \u001b[0mallow_nan\u001b[0m\u001b[1;33m:\u001b[0m\u001b[1;33m\u001b[0m\u001b[1;33m\u001b[0m\u001b[0m\n",
      "\u001b[1;31mValueError\u001b[0m: Input contains NaN, infinity or a value too large for dtype('float32')."
     ]
    }
   ],
   "source": [
    "ereg.fit(X_train,Y_train)\n",
    "Y_pred = ereg.predict(df_test)\n",
    "df = pd.DataFrame(Y_pred,columns = ['Selling_Price'])\n",
    "df.insert(0,'Product_id',data_test['Product_id'],False)\n",
    "df.set_index('Product_id')\n",
    "df.to_csv(\"predictions_ereg_2.csv\")"
   ]
  },
  {
   "cell_type": "code",
   "execution_count": 65,
   "metadata": {},
   "outputs": [
    {
     "name": "stdout",
     "output_type": "stream",
     "text": [
      "<class 'pandas.core.frame.DataFrame'>\n",
      "RangeIndex: 3430 entries, 0 to 3429\n",
      "Data columns (total 22 columns):\n",
      "Stall_no              3430 non-null float64\n",
      "Market_Category       3430 non-null int64\n",
      "Loyalty_customer      3430 non-null int32\n",
      "Product_Category_0    3430 non-null float64\n",
      "Product_Category_1    3430 non-null float64\n",
      "Product_Category_2    3430 non-null float64\n",
      "Product_Category_3    3430 non-null float64\n",
      "Product_Category_4    3430 non-null float64\n",
      "Product_Category_5    3430 non-null float64\n",
      "Product_Category_6    3430 non-null float64\n",
      "Product_Category_7    3430 non-null float64\n",
      "Product_Category_8    3430 non-null float64\n",
      "Product_Category_9    3430 non-null float64\n",
      "Grade                 3430 non-null int64\n",
      "Demand                3430 non-null int64\n",
      "Discount_avail        3430 non-null int64\n",
      "charges_1             3430 non-null float64\n",
      "charges_2 (%)         3430 non-null float64\n",
      "Minimum_price         3430 non-null float64\n",
      "Maximum_price         3430 non-null int64\n",
      "instock_date_min      0 non-null float64\n",
      "instock_date_sec      0 non-null float64\n",
      "dtypes: float64(16), int32(1), int64(5)\n",
      "memory usage: 576.3 KB\n"
     ]
    }
   ],
   "source": [
    "df_test.info()"
   ]
  },
  {
   "cell_type": "code",
   "execution_count": null,
   "metadata": {},
   "outputs": [],
   "source": []
  }
 ],
 "metadata": {
  "kernelspec": {
   "display_name": "Python 3",
   "language": "python",
   "name": "python3"
  },
  "language_info": {
   "codemirror_mode": {
    "name": "ipython",
    "version": 3
   },
   "file_extension": ".py",
   "mimetype": "text/x-python",
   "name": "python",
   "nbconvert_exporter": "python",
   "pygments_lexer": "ipython3",
   "version": "3.7.4"
  }
 },
 "nbformat": 4,
 "nbformat_minor": 2
}
